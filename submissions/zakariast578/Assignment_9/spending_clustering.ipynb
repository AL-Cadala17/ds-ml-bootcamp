{
 "cells": [
  {
   "cell_type": "code",
   "execution_count": 64,
   "id": "39d08f6e",
   "metadata": {},
   "outputs": [],
   "source": [
    "import pandas as pd\n",
    "from sklearn.cluster import KMeans\n",
    "from sklearn.preprocessing import StandardScaler\n",
    "from sklearn.metrics import silhouette_score, davies_bouldin_score"
   ]
  },
  {
   "cell_type": "code",
   "execution_count": 65,
   "id": "9dcd8104",
   "metadata": {},
   "outputs": [
    {
     "name": "stdout",
     "output_type": "stream",
     "text": [
      "   CustomerID  Gender  Age  Annual Income ($)  Spending Score (1-100)\n",
      "0           1    Male   19                 15                      39\n",
      "1           2    Male   21                 15                      81\n",
      "2           3  Female   20                 16                       6\n",
      "3           4  Female   23                 16                      77\n",
      "4           5  Female   31                 17                      40\n"
     ]
    }
   ],
   "source": [
    "CSV_PATH = \"dataset/customers_l9_dataset.csv\"\n",
    "df = pd.read_csv(CSV_PATH)\n",
    "print(df.head())"
   ]
  },
  {
   "cell_type": "code",
   "execution_count": 66,
   "id": "97a75681",
   "metadata": {},
   "outputs": [
    {
     "name": "stdout",
     "output_type": "stream",
     "text": [
      "   Annual Income ($)  Spending Score (1-100)\n",
      "0                 15                      39\n",
      "1                 15                      81\n",
      "2                 16                       6\n",
      "3                 16                      77\n",
      "4                 17                      40\n",
      "['Annual Income ($)', 'Spending Score (1-100)']\n"
     ]
    }
   ],
   "source": [
    "df = df.drop(columns=['CustomerID','Gender','Age'])\n",
    "print(df.head())\n",
    "FEATURES = df.columns.tolist()\n",
    "print(FEATURES)"
   ]
  },
  {
   "cell_type": "code",
   "execution_count": 67,
   "id": "71f80b78",
   "metadata": {},
   "outputs": [
    {
     "name": "stdout",
     "output_type": "stream",
     "text": [
      "Annual Income ($)         0\n",
      "Spending Score (1-100)    0\n",
      "dtype: int64\n"
     ]
    }
   ],
   "source": [
    "print(df[FEATURES].isnull().sum())"
   ]
  },
  {
   "cell_type": "code",
   "execution_count": 68,
   "id": "fabe2d11",
   "metadata": {},
   "outputs": [
    {
     "name": "stdout",
     "output_type": "stream",
     "text": [
      "\n",
      "Scaled shape: (200, 2)\n"
     ]
    }
   ],
   "source": [
    "scaler = StandardScaler()\n",
    "X_scaled = scaler.fit_transform(df[FEATURES])\n",
    "print(\"\\nScaled shape:\", X_scaled.shape)"
   ]
  },
  {
   "cell_type": "code",
   "execution_count": 77,
   "id": "63e2a24a",
   "metadata": {},
   "outputs": [
    {
     "name": "stdout",
     "output_type": "stream",
     "text": [
      "\n",
      "=== ELBOW METHOD (SSE per k) ===\n",
      "k=1, SSE=269981.28\n",
      "k=2, SSE=183653.33\n",
      "k=3, SSE=106348.37\n",
      "k=4, SSE=73880.64\n",
      "k=5, SSE=44448.46\n",
      "k=6, SSE=40825.17\n",
      "k=7, SSE=33642.58\n",
      "k=8, SSE=26686.84\n",
      "k=9, SSE=24766.47\n",
      "k=10, SSE=23103.12\n"
     ]
    }
   ],
   "source": [
    "print(\"\\n=== ELBOW METHOD (SSE per k) ===\")\n",
    "for k in range(1, 11):\n",
    "    kmeans = KMeans(n_clusters=k, random_state=42)\n",
    "    kmeans.fit(df[FEATURES])\n",
    "    sse = kmeans.inertia_\n",
    "    print(f\"k={k}, SSE={sse:.2f}\")"
   ]
  },
  {
   "cell_type": "markdown",
   "id": "0a3983f3",
   "metadata": {},
   "source": [
    "waxan qadan karnaa K=8 ama 9 sababtoo ah k= 8 iyo k=9 waxa udhexeyo farqiga labad Ee ugu yar Ee SSE oo ah ~1900 sidoo kale k= 9 iyo k=10 waxa udhexeyo farqiga ugu yar Ee SSE oo ah ~1600 \n",
    "marka aniga waxaa Doortay **k=9** sababtoo ah Silhouette Score Oo udhaw qiimaha 1"
   ]
  },
  {
   "cell_type": "code",
   "execution_count": 81,
   "id": "8adc0caa",
   "metadata": {},
   "outputs": [
    {
     "name": "stdout",
     "output_type": "stream",
     "text": [
      "   Annual Income ($)  Spending Score (1-100)  Cluster\n",
      "0                 15                      39        8\n",
      "1                 15                      81        3\n",
      "2                 16                       6        4\n",
      "3                 16                      77        3\n",
      "4                 17                      40        8\n"
     ]
    }
   ],
   "source": [
    "K = 9\n",
    "kmeans = KMeans(n_clusters=K, n_init=\"auto\", random_state=42)\n",
    "labels = kmeans.fit_predict(X_scaled)\n",
    "\n",
    "df[\"Cluster\"] = labels.astype(int)\n",
    "print(df.head())"
   ]
  },
  {
   "cell_type": "code",
   "execution_count": 83,
   "id": "d3a08573",
   "metadata": {},
   "outputs": [
    {
     "name": "stdout",
     "output_type": "stream",
     "text": [
      "\n",
      "Silhouette Score: 0.4567\n",
      "Davies-Bouldin Index: 0.7588\n"
     ]
    }
   ],
   "source": [
    "sil = silhouette_score(X_scaled, labels)\n",
    "dbi = davies_bouldin_score(X_scaled, labels)\n",
    "print(f\"\\nSilhouette Score: {sil:.4f}\")\n",
    "print(f\"Davies-Bouldin Index: {dbi:.4f}\")"
   ]
  },
  {
   "cell_type": "markdown",
   "id": "d9300c73",
   "metadata": {},
   "source": [
    "**Cluster centers**"
   ]
  },
  {
   "cell_type": "code",
   "execution_count": 72,
   "id": "77b387d0",
   "metadata": {},
   "outputs": [
    {
     "name": "stdout",
     "output_type": "stream",
     "text": [
      "\n",
      "Cluster centers (original scale):\n",
      "         Annual Income ($)  Spending Score (1-100)\n",
      "Cluster                                           \n",
      "0                    55.30                   49.52\n",
      "1                    86.54                   82.13\n",
      "2                    25.73                   79.36\n",
      "3                    88.20                   17.11\n",
      "4                    26.30                   20.91\n"
     ]
    }
   ],
   "source": [
    "centers_scaled = kmeans.cluster_centers_\n",
    "centers_original = scaler.inverse_transform(centers_scaled)\n",
    "\n",
    "print(\"\\nCluster centers (original scale):\")\n",
    "centers_df = pd.DataFrame(centers_original, columns=FEATURES)\n",
    "centers_df.index.name = \"Cluster\"\n",
    "\n",
    "print(centers_df.round(2))"
   ]
  },
  {
   "cell_type": "markdown",
   "id": "476ea9f2",
   "metadata": {},
   "source": [
    "**Sanity checks**"
   ]
  },
  {
   "cell_type": "code",
   "execution_count": 73,
   "id": "330f3fc8",
   "metadata": {},
   "outputs": [
    {
     "name": "stdout",
     "output_type": "stream",
     "text": [
      "\n",
      "Sample data points with cluster assignments:\n",
      "     Annual Income ($)  Spending Score (1-100)  Cluster\n",
      "9                   19                      72        2\n",
      "30                  30                       4        4\n",
      "100                 62                      41        0\n",
      "110                 63                      52        0\n"
     ]
    }
   ],
   "source": [
    "sample_idx = [9, 30, 100, 110] \n",
    "sanity = df.loc[sample_idx, FEATURES + [\"Cluster\"]]\n",
    "\n",
    "print(\"\\nSample data points with cluster assignments:\")\n",
    "print(sanity)"
   ]
  },
  {
   "cell_type": "code",
   "execution_count": 74,
   "id": "9ec90464",
   "metadata": {},
   "outputs": [],
   "source": [
    "#save to new CSV\n",
    "import os\n",
    "OUTPUT_CSV = \"dataset/with_clusters_customers_l9_dataset.csv\"\n",
    "os.makedirs(os.path.dirname(OUTPUT_CSV), exist_ok=True)\n",
    "df.to_csv(OUTPUT_CSV, index=False)"
   ]
  }
 ],
 "metadata": {
  "kernelspec": {
   "display_name": "base",
   "language": "python",
   "name": "python3"
  },
  "language_info": {
   "codemirror_mode": {
    "name": "ipython",
    "version": 3
   },
   "file_extension": ".py",
   "mimetype": "text/x-python",
   "name": "python",
   "nbconvert_exporter": "python",
   "pygments_lexer": "ipython3",
   "version": "3.13.5"
  }
 },
 "nbformat": 4,
 "nbformat_minor": 5
}
